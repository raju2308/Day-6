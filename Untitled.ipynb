{
 "cells": [
  {
   "cell_type": "markdown",
   "metadata": {},
   "source": [
    "# Question 1"
   ]
  },
  {
   "cell_type": "code",
   "execution_count": 1,
   "metadata": {},
   "outputs": [],
   "source": [
    "class Bank():\n",
    "    def __init__(self,owner,balance=0):\n",
    "        self.owner = owner\n",
    "        self.balance = balance\n",
    "        \n",
    "    def deposit(self, balance):\n",
    "        self.balance+=  balance\n",
    "        return self.balance\n",
    "    \n",
    "    def withdraw(self,balance):\n",
    "            if self.balance >= balance:\n",
    "                self.balance-=balance\n",
    "            else:\n",
    "                return \"Not Possible only \" + str(self.balance) + ' is avaliable'\n",
    "            return self.balance"
   ]
  },
  {
   "cell_type": "code",
   "execution_count": 2,
   "metadata": {},
   "outputs": [],
   "source": [
    "account1 = Bank('account1',100)"
   ]
  },
  {
   "cell_type": "code",
   "execution_count": 3,
   "metadata": {},
   "outputs": [
    {
     "data": {
      "text/plain": [
       "1100"
      ]
     },
     "execution_count": 3,
     "metadata": {},
     "output_type": "execute_result"
    }
   ],
   "source": [
    "account1.deposit(1000)"
   ]
  },
  {
   "cell_type": "code",
   "execution_count": 4,
   "metadata": {},
   "outputs": [
    {
     "data": {
      "text/plain": [
       "'Not Possible only 1100 is avaliable'"
      ]
     },
     "execution_count": 4,
     "metadata": {},
     "output_type": "execute_result"
    }
   ],
   "source": [
    "account1.withdraw(2000)"
   ]
  },
  {
   "cell_type": "code",
   "execution_count": 5,
   "metadata": {},
   "outputs": [
    {
     "data": {
      "text/plain": [
       "700"
      ]
     },
     "execution_count": 5,
     "metadata": {},
     "output_type": "execute_result"
    }
   ],
   "source": [
    "account1.withdraw(400)"
   ]
  },
  {
   "cell_type": "markdown",
   "metadata": {},
   "source": [
    "# Question 2"
   ]
  },
  {
   "cell_type": "code",
   "execution_count": 6,
   "metadata": {},
   "outputs": [],
   "source": [
    "import math\n",
    "class Cone:\n",
    "    def __init__(self,r=1,h=1):\n",
    "        self.r = r\n",
    "        self.h = h\n",
    "        self.volume =0\n",
    "        self.surface_area = 0\n",
    "    def volume_fun(self):\n",
    "        self.volume = math.pi * self.r * self.r * (self.h/3)\n",
    "        return self.volume\n",
    "    def surface_area_fun(self):\n",
    "        base = math.pi * self.r * self.r\n",
    "        side = math.pi * self.r * math.sqrt(self.r**2 + self.h**2)\n",
    "        self.surface_area = base + side\n",
    "        return self.surface_area"
   ]
  },
  {
   "cell_type": "code",
   "execution_count": 7,
   "metadata": {},
   "outputs": [],
   "source": [
    "cone1 = Cone(5,7)"
   ]
  },
  {
   "cell_type": "code",
   "execution_count": 8,
   "metadata": {},
   "outputs": [
    {
     "data": {
      "text/plain": [
       "183.2595714594046"
      ]
     },
     "execution_count": 8,
     "metadata": {},
     "output_type": "execute_result"
    }
   ],
   "source": [
    "cone1.volume_fun()"
   ]
  },
  {
   "cell_type": "code",
   "execution_count": null,
   "metadata": {},
   "outputs": [],
   "source": []
  }
 ],
 "metadata": {
  "kernelspec": {
   "display_name": "Python 3",
   "language": "python",
   "name": "python3"
  },
  "language_info": {
   "codemirror_mode": {
    "name": "ipython",
    "version": 3
   },
   "file_extension": ".py",
   "mimetype": "text/x-python",
   "name": "python",
   "nbconvert_exporter": "python",
   "pygments_lexer": "ipython3",
   "version": "3.7.6"
  }
 },
 "nbformat": 4,
 "nbformat_minor": 4
}
